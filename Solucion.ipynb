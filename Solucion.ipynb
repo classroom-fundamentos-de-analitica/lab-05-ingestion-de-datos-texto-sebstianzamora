{
 "cells": [
  {
   "cell_type": "code",
   "execution_count": 1,
   "metadata": {},
   "outputs": [],
   "source": [
    "import pandas as pd\n",
    "import os\n",
    "import zipfile"
   ]
  },
  {
   "cell_type": "markdown",
   "metadata": {},
   "source": [
    "**Cargar Archivo**"
   ]
  },
  {
   "cell_type": "code",
   "execution_count": 3,
   "metadata": {},
   "outputs": [
    {
     "data": {
      "text/plain": [
       "<zipfile.ZipFile filename='data.zip' mode='r'>"
      ]
     },
     "execution_count": 3,
     "metadata": {},
     "output_type": "execute_result"
    }
   ],
   "source": [
    "datos = zipfile.ZipFile('data.zip','r')\n",
    "datos.extractall()"
   ]
  },
  {
   "cell_type": "markdown",
   "metadata": {},
   "source": [
    "**Procesamiento de la carpeta**"
   ]
  },
  {
   "cell_type": "code",
   "execution_count": 4,
   "metadata": {},
   "outputs": [],
   "source": [
    "def procesar_carpeta(carpeta):\n",
    "    datos2 = []\n",
    "    for raiz, directorios, archivos in os.walk(carpeta):\n",
    "        for archivo in archivos:\n",
    "            if archivo.endswith('.txt'):\n",
    "                ruta_archivo = os.path.join(raiz, archivo)\n",
    "                etiqueta = os.path.basename(os.path.dirname(ruta_archivo))\n",
    "                with open(ruta_archivo, 'r', encoding='utf-8') as archivo_txt:\n",
    "                    texto = archivo_txt.read().strip()\n",
    "                    datos2.append((texto, etiqueta))\n",
    "    return datos2"
   ]
  },
  {
   "cell_type": "markdown",
   "metadata": {},
   "source": [
    "**Establecer carpetas**"
   ]
  },
  {
   "cell_type": "code",
   "execution_count": 5,
   "metadata": {},
   "outputs": [],
   "source": [
    "datos_train = procesar_carpeta('train')\n",
    "datos_test = procesar_carpeta('test')\n",
    "\n",
    "df_train = pd.DataFrame(datos_train, columns=['phrase', 'sentiment'])\n",
    "df_test = pd.DataFrame(datos_test, columns=['phrase', 'sentiment'])\n",
    "\n",
    "\n",
    "df_train.to_csv('train_dataset.csv', index=False)\n",
    "df_test.to_csv('test_dataset.csv', index=False)"
   ]
  }
 ],
 "metadata": {
  "kernelspec": {
   "display_name": "Python 3",
   "language": "python",
   "name": "python3"
  },
  "language_info": {
   "codemirror_mode": {
    "name": "ipython",
    "version": 3
   },
   "file_extension": ".py",
   "mimetype": "text/x-python",
   "name": "python",
   "nbconvert_exporter": "python",
   "pygments_lexer": "ipython3",
   "version": "3.12.2"
  }
 },
 "nbformat": 4,
 "nbformat_minor": 2
}
